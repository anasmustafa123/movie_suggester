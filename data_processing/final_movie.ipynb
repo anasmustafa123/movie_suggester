{
  "cells": [
    {
      "cell_type": "code",
      "execution_count": null,
      "metadata": {
        "id": "leH6C6nOoSzX"
      },
      "outputs": [],
      "source": [
        "import pandas as pd\n",
        "import numpy as np\n",
        "import ast\n",
        "from sklearn.feature_extraction.text import CountVectorizer\n",
        "from sklearn.metrics.pairwise import cosine_similarity"
      ]
    },
    {
      "cell_type": "code",
      "execution_count": null,
      "metadata": {
        "id": "7Eo05j4sobC5"
      },
      "outputs": [],
      "source": [
        "movies = pd.read_csv(\"movies_df.csv\")"
      ]
    },
    {
      "cell_type": "code",
      "execution_count": null,
      "metadata": {
        "colab": {
          "base_uri": "https://localhost:8080/",
          "height": 432
        },
        "id": "GS9e0X7XobAD",
        "outputId": "ee6aeef1-7815-48c2-ee78-f83ac6843c49"
      },
      "outputs": [
        {
          "data": {
            "text/html": [
              "\n",
              "  <div id=\"df-f2503cea-1524-4dce-be10-6c2ff3310afe\" class=\"colab-df-container\">\n",
              "    <div>\n",
              "<style scoped>\n",
              "    .dataframe tbody tr th:only-of-type {\n",
              "        vertical-align: middle;\n",
              "    }\n",
              "\n",
              "    .dataframe tbody tr th {\n",
              "        vertical-align: top;\n",
              "    }\n",
              "\n",
              "    .dataframe thead th {\n",
              "        text-align: right;\n",
              "    }\n",
              "</style>\n",
              "<table border=\"1\" class=\"dataframe\">\n",
              "  <thead>\n",
              "    <tr style=\"text-align: right;\">\n",
              "      <th></th>\n",
              "      <th>id</th>\n",
              "      <th>title</th>\n",
              "      <th>poster_path</th>\n",
              "      <th>actors</th>\n",
              "      <th>directors</th>\n",
              "      <th>writers</th>\n",
              "      <th>genres</th>\n",
              "      <th>keywords</th>\n",
              "      <th>tag</th>\n",
              "    </tr>\n",
              "  </thead>\n",
              "  <tbody>\n",
              "    <tr>\n",
              "      <th>0</th>\n",
              "      <td>866398</td>\n",
              "      <td>The Beekeeper</td>\n",
              "      <td>/A7EByudX0eOzlkQ2FIbogzyazm2.jpg</td>\n",
              "      <td>['JasonStatham', 'EmmyRaver-Lampman', 'BobbyNa...</td>\n",
              "      <td>['DavidAyer', 'ChrisLong', 'KellyMaracinKrieg'...</td>\n",
              "      <td>['KurtWimmer', 'KurtWimmer']</td>\n",
              "      <td>['Action', 'Thriller', 'Drama']</td>\n",
              "      <td>['potus', 'secretgovernmentagency', 'fbiagent'...</td>\n",
              "      <td>['JasonStatham', 'EmmyRaver-Lampman', 'BobbyNa...</td>\n",
              "    </tr>\n",
              "    <tr>\n",
              "      <th>1</th>\n",
              "      <td>787699</td>\n",
              "      <td>Wonka</td>\n",
              "      <td>/qhb1qOilapbapxWQn9jtRCMwXJF.jpg</td>\n",
              "      <td>['TimothéeChalamet', 'CalahLane', 'Keegan-Mich...</td>\n",
              "      <td>['PaulKing', 'PaulKing', 'PaulKing', 'ZoeMorga...</td>\n",
              "      <td>['RoaldDahl']</td>\n",
              "      <td>['Comedy', 'Family', 'Fantasy']</td>\n",
              "      <td>['chocolate', 'musical', 'prequel', 'duringcre...</td>\n",
              "      <td>['TimothéeChalamet', 'CalahLane', 'Keegan-Mich...</td>\n",
              "    </tr>\n",
              "    <tr>\n",
              "      <th>2</th>\n",
              "      <td>933131</td>\n",
              "      <td>Badland Hunters</td>\n",
              "      <td>/zVMyvNowgbsBAL6O6esWfRpAcOb.jpg</td>\n",
              "      <td>['MaDong-seok', 'LeeHee-jun', 'LeeJun-young']</td>\n",
              "      <td>['KimChang-hoon']</td>\n",
              "      <td>['KimBo-tong', 'KimDong-gyun', 'KwakJae-min']</td>\n",
              "      <td>['Action', 'ScienceFiction', 'Drama']</td>\n",
              "      <td>['post-apocalypticfuture', 'earthquake', 'badl...</td>\n",
              "      <td>['MaDong-seok', 'LeeHee-jun', 'LeeJun-young', ...</td>\n",
              "    </tr>\n",
              "    <tr>\n",
              "      <th>3</th>\n",
              "      <td>572802</td>\n",
              "      <td>Aquaman and the Lost Kingdom</td>\n",
              "      <td>/7lTnXOy0iNtBAdRP3TZvaKJ77F6.jpg</td>\n",
              "      <td>['JasonMomoa', 'PatrickWilson', 'YahyaAbdul-Ma...</td>\n",
              "      <td>['JamesWan', 'JamesWan', 'JamesWan']</td>\n",
              "      <td>['DavidLeslieJohnson-McGoldrick', 'DavidLeslie...</td>\n",
              "      <td>['Action', 'Adventure', 'Fantasy']</td>\n",
              "      <td>['superhero', 'secretsociety', 'half-brother',...</td>\n",
              "      <td>['JasonMomoa', 'PatrickWilson', 'YahyaAbdul-Ma...</td>\n",
              "    </tr>\n",
              "    <tr>\n",
              "      <th>4</th>\n",
              "      <td>940551</td>\n",
              "      <td>Migration</td>\n",
              "      <td>/ldfCF9RhR40mppkzmftxapaHeTo.jpg</td>\n",
              "      <td>['KumailNanjiani', 'ElizabethBanks', 'CasparJe...</td>\n",
              "      <td>['BenjaminRenner', 'BenjaminRenner', 'Guy-Laur...</td>\n",
              "      <td>['KenDaurio']</td>\n",
              "      <td>['Animation', 'Action', 'Adventure', 'Comedy',...</td>\n",
              "      <td>['duck', 'migration', 'flight', 'anthropomorph...</td>\n",
              "      <td>['KumailNanjiani', 'ElizabethBanks', 'CasparJe...</td>\n",
              "    </tr>\n",
              "  </tbody>\n",
              "</table>\n",
              "</div>\n",
              "    <div class=\"colab-df-buttons\">\n",
              "\n",
              "  <div class=\"colab-df-container\">\n",
              "    <button class=\"colab-df-convert\" onclick=\"convertToInteractive('df-f2503cea-1524-4dce-be10-6c2ff3310afe')\"\n",
              "            title=\"Convert this dataframe to an interactive table.\"\n",
              "            style=\"display:none;\">\n",
              "\n",
              "  <svg xmlns=\"http://www.w3.org/2000/svg\" height=\"24px\" viewBox=\"0 -960 960 960\">\n",
              "    <path d=\"M120-120v-720h720v720H120Zm60-500h600v-160H180v160Zm220 220h160v-160H400v160Zm0 220h160v-160H400v160ZM180-400h160v-160H180v160Zm440 0h160v-160H620v160ZM180-180h160v-160H180v160Zm440 0h160v-160H620v160Z\"/>\n",
              "  </svg>\n",
              "    </button>\n",
              "\n",
              "  <style>\n",
              "    .colab-df-container {\n",
              "      display:flex;\n",
              "      gap: 12px;\n",
              "    }\n",
              "\n",
              "    .colab-df-convert {\n",
              "      background-color: #E8F0FE;\n",
              "      border: none;\n",
              "      border-radius: 50%;\n",
              "      cursor: pointer;\n",
              "      display: none;\n",
              "      fill: #1967D2;\n",
              "      height: 32px;\n",
              "      padding: 0 0 0 0;\n",
              "      width: 32px;\n",
              "    }\n",
              "\n",
              "    .colab-df-convert:hover {\n",
              "      background-color: #E2EBFA;\n",
              "      box-shadow: 0px 1px 2px rgba(60, 64, 67, 0.3), 0px 1px 3px 1px rgba(60, 64, 67, 0.15);\n",
              "      fill: #174EA6;\n",
              "    }\n",
              "\n",
              "    .colab-df-buttons div {\n",
              "      margin-bottom: 4px;\n",
              "    }\n",
              "\n",
              "    [theme=dark] .colab-df-convert {\n",
              "      background-color: #3B4455;\n",
              "      fill: #D2E3FC;\n",
              "    }\n",
              "\n",
              "    [theme=dark] .colab-df-convert:hover {\n",
              "      background-color: #434B5C;\n",
              "      box-shadow: 0px 1px 3px 1px rgba(0, 0, 0, 0.15);\n",
              "      filter: drop-shadow(0px 1px 2px rgba(0, 0, 0, 0.3));\n",
              "      fill: #FFFFFF;\n",
              "    }\n",
              "  </style>\n",
              "\n",
              "    <script>\n",
              "      const buttonEl =\n",
              "        document.querySelector('#df-f2503cea-1524-4dce-be10-6c2ff3310afe button.colab-df-convert');\n",
              "      buttonEl.style.display =\n",
              "        google.colab.kernel.accessAllowed ? 'block' : 'none';\n",
              "\n",
              "      async function convertToInteractive(key) {\n",
              "        const element = document.querySelector('#df-f2503cea-1524-4dce-be10-6c2ff3310afe');\n",
              "        const dataTable =\n",
              "          await google.colab.kernel.invokeFunction('convertToInteractive',\n",
              "                                                    [key], {});\n",
              "        if (!dataTable) return;\n",
              "\n",
              "        const docLinkHtml = 'Like what you see? Visit the ' +\n",
              "          '<a target=\"_blank\" href=https://colab.research.google.com/notebooks/data_table.ipynb>data table notebook</a>'\n",
              "          + ' to learn more about interactive tables.';\n",
              "        element.innerHTML = '';\n",
              "        dataTable['output_type'] = 'display_data';\n",
              "        await google.colab.output.renderOutput(dataTable, element);\n",
              "        const docLink = document.createElement('div');\n",
              "        docLink.innerHTML = docLinkHtml;\n",
              "        element.appendChild(docLink);\n",
              "      }\n",
              "    </script>\n",
              "  </div>\n",
              "\n",
              "\n",
              "<div id=\"df-23faa70d-d1b8-4d31-8770-05bdb49bf5c5\">\n",
              "  <button class=\"colab-df-quickchart\" onclick=\"quickchart('df-23faa70d-d1b8-4d31-8770-05bdb49bf5c5')\"\n",
              "            title=\"Suggest charts\"\n",
              "            style=\"display:none;\">\n",
              "\n",
              "<svg xmlns=\"http://www.w3.org/2000/svg\" height=\"24px\"viewBox=\"0 0 24 24\"\n",
              "     width=\"24px\">\n",
              "    <g>\n",
              "        <path d=\"M19 3H5c-1.1 0-2 .9-2 2v14c0 1.1.9 2 2 2h14c1.1 0 2-.9 2-2V5c0-1.1-.9-2-2-2zM9 17H7v-7h2v7zm4 0h-2V7h2v10zm4 0h-2v-4h2v4z\"/>\n",
              "    </g>\n",
              "</svg>\n",
              "  </button>\n",
              "\n",
              "<style>\n",
              "  .colab-df-quickchart {\n",
              "      --bg-color: #E8F0FE;\n",
              "      --fill-color: #1967D2;\n",
              "      --hover-bg-color: #E2EBFA;\n",
              "      --hover-fill-color: #174EA6;\n",
              "      --disabled-fill-color: #AAA;\n",
              "      --disabled-bg-color: #DDD;\n",
              "  }\n",
              "\n",
              "  [theme=dark] .colab-df-quickchart {\n",
              "      --bg-color: #3B4455;\n",
              "      --fill-color: #D2E3FC;\n",
              "      --hover-bg-color: #434B5C;\n",
              "      --hover-fill-color: #FFFFFF;\n",
              "      --disabled-bg-color: #3B4455;\n",
              "      --disabled-fill-color: #666;\n",
              "  }\n",
              "\n",
              "  .colab-df-quickchart {\n",
              "    background-color: var(--bg-color);\n",
              "    border: none;\n",
              "    border-radius: 50%;\n",
              "    cursor: pointer;\n",
              "    display: none;\n",
              "    fill: var(--fill-color);\n",
              "    height: 32px;\n",
              "    padding: 0;\n",
              "    width: 32px;\n",
              "  }\n",
              "\n",
              "  .colab-df-quickchart:hover {\n",
              "    background-color: var(--hover-bg-color);\n",
              "    box-shadow: 0 1px 2px rgba(60, 64, 67, 0.3), 0 1px 3px 1px rgba(60, 64, 67, 0.15);\n",
              "    fill: var(--button-hover-fill-color);\n",
              "  }\n",
              "\n",
              "  .colab-df-quickchart-complete:disabled,\n",
              "  .colab-df-quickchart-complete:disabled:hover {\n",
              "    background-color: var(--disabled-bg-color);\n",
              "    fill: var(--disabled-fill-color);\n",
              "    box-shadow: none;\n",
              "  }\n",
              "\n",
              "  .colab-df-spinner {\n",
              "    border: 2px solid var(--fill-color);\n",
              "    border-color: transparent;\n",
              "    border-bottom-color: var(--fill-color);\n",
              "    animation:\n",
              "      spin 1s steps(1) infinite;\n",
              "  }\n",
              "\n",
              "  @keyframes spin {\n",
              "    0% {\n",
              "      border-color: transparent;\n",
              "      border-bottom-color: var(--fill-color);\n",
              "      border-left-color: var(--fill-color);\n",
              "    }\n",
              "    20% {\n",
              "      border-color: transparent;\n",
              "      border-left-color: var(--fill-color);\n",
              "      border-top-color: var(--fill-color);\n",
              "    }\n",
              "    30% {\n",
              "      border-color: transparent;\n",
              "      border-left-color: var(--fill-color);\n",
              "      border-top-color: var(--fill-color);\n",
              "      border-right-color: var(--fill-color);\n",
              "    }\n",
              "    40% {\n",
              "      border-color: transparent;\n",
              "      border-right-color: var(--fill-color);\n",
              "      border-top-color: var(--fill-color);\n",
              "    }\n",
              "    60% {\n",
              "      border-color: transparent;\n",
              "      border-right-color: var(--fill-color);\n",
              "    }\n",
              "    80% {\n",
              "      border-color: transparent;\n",
              "      border-right-color: var(--fill-color);\n",
              "      border-bottom-color: var(--fill-color);\n",
              "    }\n",
              "    90% {\n",
              "      border-color: transparent;\n",
              "      border-bottom-color: var(--fill-color);\n",
              "    }\n",
              "  }\n",
              "</style>\n",
              "\n",
              "  <script>\n",
              "    async function quickchart(key) {\n",
              "      const quickchartButtonEl =\n",
              "        document.querySelector('#' + key + ' button');\n",
              "      quickchartButtonEl.disabled = true;  // To prevent multiple clicks.\n",
              "      quickchartButtonEl.classList.add('colab-df-spinner');\n",
              "      try {\n",
              "        const charts = await google.colab.kernel.invokeFunction(\n",
              "            'suggestCharts', [key], {});\n",
              "      } catch (error) {\n",
              "        console.error('Error during call to suggestCharts:', error);\n",
              "      }\n",
              "      quickchartButtonEl.classList.remove('colab-df-spinner');\n",
              "      quickchartButtonEl.classList.add('colab-df-quickchart-complete');\n",
              "    }\n",
              "    (() => {\n",
              "      let quickchartButtonEl =\n",
              "        document.querySelector('#df-23faa70d-d1b8-4d31-8770-05bdb49bf5c5 button');\n",
              "      quickchartButtonEl.style.display =\n",
              "        google.colab.kernel.accessAllowed ? 'block' : 'none';\n",
              "    })();\n",
              "  </script>\n",
              "</div>\n",
              "\n",
              "    </div>\n",
              "  </div>\n"
            ],
            "text/plain": [
              "       id                         title                       poster_path  \\\n",
              "0  866398                 The Beekeeper  /A7EByudX0eOzlkQ2FIbogzyazm2.jpg   \n",
              "1  787699                         Wonka  /qhb1qOilapbapxWQn9jtRCMwXJF.jpg   \n",
              "2  933131               Badland Hunters  /zVMyvNowgbsBAL6O6esWfRpAcOb.jpg   \n",
              "3  572802  Aquaman and the Lost Kingdom  /7lTnXOy0iNtBAdRP3TZvaKJ77F6.jpg   \n",
              "4  940551                     Migration  /ldfCF9RhR40mppkzmftxapaHeTo.jpg   \n",
              "\n",
              "                                              actors  \\\n",
              "0  ['JasonStatham', 'EmmyRaver-Lampman', 'BobbyNa...   \n",
              "1  ['TimothéeChalamet', 'CalahLane', 'Keegan-Mich...   \n",
              "2      ['MaDong-seok', 'LeeHee-jun', 'LeeJun-young']   \n",
              "3  ['JasonMomoa', 'PatrickWilson', 'YahyaAbdul-Ma...   \n",
              "4  ['KumailNanjiani', 'ElizabethBanks', 'CasparJe...   \n",
              "\n",
              "                                           directors  \\\n",
              "0  ['DavidAyer', 'ChrisLong', 'KellyMaracinKrieg'...   \n",
              "1  ['PaulKing', 'PaulKing', 'PaulKing', 'ZoeMorga...   \n",
              "2                                  ['KimChang-hoon']   \n",
              "3               ['JamesWan', 'JamesWan', 'JamesWan']   \n",
              "4  ['BenjaminRenner', 'BenjaminRenner', 'Guy-Laur...   \n",
              "\n",
              "                                             writers  \\\n",
              "0                       ['KurtWimmer', 'KurtWimmer']   \n",
              "1                                      ['RoaldDahl']   \n",
              "2      ['KimBo-tong', 'KimDong-gyun', 'KwakJae-min']   \n",
              "3  ['DavidLeslieJohnson-McGoldrick', 'DavidLeslie...   \n",
              "4                                      ['KenDaurio']   \n",
              "\n",
              "                                              genres  \\\n",
              "0                    ['Action', 'Thriller', 'Drama']   \n",
              "1                    ['Comedy', 'Family', 'Fantasy']   \n",
              "2              ['Action', 'ScienceFiction', 'Drama']   \n",
              "3                 ['Action', 'Adventure', 'Fantasy']   \n",
              "4  ['Animation', 'Action', 'Adventure', 'Comedy',...   \n",
              "\n",
              "                                            keywords  \\\n",
              "0  ['potus', 'secretgovernmentagency', 'fbiagent'...   \n",
              "1  ['chocolate', 'musical', 'prequel', 'duringcre...   \n",
              "2  ['post-apocalypticfuture', 'earthquake', 'badl...   \n",
              "3  ['superhero', 'secretsociety', 'half-brother',...   \n",
              "4  ['duck', 'migration', 'flight', 'anthropomorph...   \n",
              "\n",
              "                                                 tag  \n",
              "0  ['JasonStatham', 'EmmyRaver-Lampman', 'BobbyNa...  \n",
              "1  ['TimothéeChalamet', 'CalahLane', 'Keegan-Mich...  \n",
              "2  ['MaDong-seok', 'LeeHee-jun', 'LeeJun-young', ...  \n",
              "3  ['JasonMomoa', 'PatrickWilson', 'YahyaAbdul-Ma...  \n",
              "4  ['KumailNanjiani', 'ElizabethBanks', 'CasparJe...  "
            ]
          },
          "execution_count": 26,
          "metadata": {},
          "output_type": "execute_result"
        }
      ],
      "source": [
        "movies.head()"
      ]
    },
    {
      "cell_type": "code",
      "execution_count": null,
      "metadata": {
        "colab": {
          "base_uri": "https://localhost:8080/"
        },
        "id": "5ozKoiUqoa9G",
        "outputId": "bdf5a918-5274-482e-ca17-215faa31a126"
      },
      "outputs": [
        {
          "data": {
            "text/plain": [
              "Index(['id', 'title', 'poster_path', 'actors', 'directors', 'writers',\n",
              "       'genres', 'keywords', 'tag'],\n",
              "      dtype='object')"
            ]
          },
          "execution_count": 27,
          "metadata": {},
          "output_type": "execute_result"
        }
      ],
      "source": [
        "movies.columns"
      ]
    },
    {
      "cell_type": "code",
      "execution_count": null,
      "metadata": {
        "id": "rpbkO_Vroa6t"
      },
      "outputs": [],
      "source": [
        "cv = CountVectorizer(max_features=movies.shape[0])"
      ]
    },
    {
      "cell_type": "code",
      "execution_count": null,
      "metadata": {
        "id": "TxhnwURVoa5g"
      },
      "outputs": [],
      "source": [
        "vector = cv.fit_transform(movies['tag']).toarray()"
      ]
    },
    {
      "cell_type": "code",
      "execution_count": null,
      "metadata": {
        "colab": {
          "base_uri": "https://localhost:8080/"
        },
        "id": "I-I6hrZ8pjIr",
        "outputId": "5974c475-2f9f-4269-e07b-3d08c909e81d"
      },
      "outputs": [
        {
          "data": {
            "text/plain": [
              "(9629, 9629)"
            ]
          },
          "execution_count": 30,
          "metadata": {},
          "output_type": "execute_result"
        }
      ],
      "source": [
        "vector.shape"
      ]
    },
    {
      "cell_type": "code",
      "execution_count": null,
      "metadata": {
        "colab": {
          "background_save": true
        },
        "id": "4hBPW2SRpjFU"
      },
      "outputs": [],
      "source": [
        "similarity = cosine_similarity(vector)"
      ]
    },
    {
      "cell_type": "code",
      "execution_count": null,
      "metadata": {
        "colab": {
          "background_save": true
        },
        "id": "J29CCF0KpjC4",
        "outputId": "466ae577-a5d6-4029-abf1-a0d6c7ab1634"
      },
      "outputs": [
        {
          "data": {
            "text/plain": [
              "array([[1.        , 0.        , 0.12262787, ..., 0.        , 0.        ,\n",
              "        0.10101525],\n",
              "       [0.        , 1.        , 0.        , ..., 0.07071068, 0.21213203,\n",
              "        0.        ],\n",
              "       [0.12262787, 0.        , 1.        , ..., 0.        , 0.        ,\n",
              "        0.0433555 ],\n",
              "       ...,\n",
              "       [0.        , 0.07071068, 0.        , ..., 1.        , 0.25      ,\n",
              "        0.        ],\n",
              "       [0.        , 0.21213203, 0.        , ..., 0.25      , 1.        ,\n",
              "        0.        ],\n",
              "       [0.10101525, 0.        , 0.0433555 , ..., 0.        , 0.        ,\n",
              "        1.        ]])"
            ]
          },
          "execution_count": 32,
          "metadata": {},
          "output_type": "execute_result"
        }
      ],
      "source": [
        "similarity"
      ]
    },
    {
      "cell_type": "code",
      "execution_count": null,
      "metadata": {
        "colab": {
          "background_save": true
        },
        "id": "B-ttecPvp-Yq",
        "outputId": "3f4f2d1c-50a9-4544-d951-b33b756aef80"
      },
      "outputs": [
        {
          "data": {
            "text/plain": [
              "numpy.ndarray"
            ]
          },
          "execution_count": 33,
          "metadata": {},
          "output_type": "execute_result"
        }
      ],
      "source": [
        "type(similarity)"
      ]
    },
    {
      "cell_type": "code",
      "execution_count": null,
      "metadata": {
        "colab": {
          "background_save": true
        },
        "id": "ZVi7k69Mp-Tb",
        "outputId": "745d37a8-b24d-4c17-fbab-1b1ad1bf046d"
      },
      "outputs": [
        {
          "data": {
            "text/plain": [
              "254    ['SamWorthington', 'ZoeSaldaña', 'SigourneyWea...\n",
              "Name: tag, dtype: object"
            ]
          },
          "execution_count": 34,
          "metadata": {},
          "output_type": "execute_result"
        }
      ],
      "source": [
        "movies[movies['title'] == 'Avatar']['tag']"
      ]
    },
    {
      "cell_type": "code",
      "execution_count": null,
      "metadata": {
        "colab": {
          "background_save": true
        },
        "id": "Oj8-iUUuqJNd"
      },
      "outputs": [],
      "source": [
        "def recommend(title):\n",
        "  title_index =  movies[movies['title'] == title].index[0]\n",
        "  movies_sorted = sorted(list(enumerate(similarity[title_index])), reverse=True, key = lambda x: x[1])\n",
        "  for i in movies_sorted[0:15]:\n",
        "    print(movies.iloc[i[0]].title)\n",
        "    print(i)"
      ]
    },
    {
      "cell_type": "code",
      "execution_count": null,
      "metadata": {
        "colab": {
          "background_save": true
        },
        "id": "e5H-XxZ4qQ7N",
        "outputId": "cbdd0d44-0daa-4941-fb1c-71c080c6582e"
      },
      "outputs": [
        {
          "name": "stdout",
          "output_type": "stream",
          "text": [
            "Interstellar\n",
            "(132, 1.0000000000000002)\n",
            "Inception\n",
            "(407, 0.3400000000000001)\n",
            "The Dark Knight Rises\n",
            "(697, 0.32126980205784317)\n",
            "The Dark Knight\n",
            "(364, 0.309426373877638)\n",
            "Forsaken\n",
            "(2361, 0.2886751345948129)\n",
            "Tenet\n",
            "(1216, 0.282842712474619)\n",
            "Silent Running\n",
            "(8487, 0.27456258919345766)\n",
            "The Prestige\n",
            "(1496, 0.2683281572999748)\n",
            "Dunkirk\n",
            "(1337, 0.2557448052364024)\n",
            "Oppenheimer\n",
            "(22, 0.2293658554627822)\n",
            "Marooned\n",
            "(9484, 0.2267786838055363)\n",
            "Surrogates\n",
            "(2566, 0.21773242158072698)\n",
            "Proximity\n",
            "(5491, 0.21380899352993948)\n",
            "Plan 75\n",
            "(7481, 0.21380899352993948)\n",
            "Memento\n",
            "(2484, 0.21213203435596426)\n"
          ]
        }
      ],
      "source": [
        "recommend('Interstellar')"
      ]
    },
    {
      "cell_type": "code",
      "execution_count": null,
      "metadata": {
        "colab": {
          "background_save": true
        },
        "id": "D-YyvITe4LE8"
      },
      "outputs": [],
      "source": [
        "temp = movies.drop_duplicates(subset=\"id\", keep=\"first\")\n",
        "temp.shape\n",
        "temp.to_csv(\"movies_df.csv\", index=False)"
      ]
    },
    {
      "cell_type": "code",
      "execution_count": null,
      "metadata": {
        "colab": {
          "background_save": true
        },
        "id": "hWmbQ1zBrRDM",
        "outputId": "6d34f51a-8ada-4646-804f-87dba5db04ab"
      },
      "outputs": [
        {
          "data": {
            "text/plain": [
              "(9629, 9)"
            ]
          },
          "execution_count": 38,
          "metadata": {},
          "output_type": "execute_result"
        }
      ],
      "source": [
        "temp.shape"
      ]
    },
    {
      "cell_type": "code",
      "execution_count": null,
      "metadata": {
        "colab": {
          "background_save": true
        },
        "id": "AzD2T3lzgyK3"
      },
      "outputs": [],
      "source": [
        "import joblib"
      ]
    },
    {
      "cell_type": "code",
      "execution_count": null,
      "metadata": {
        "colab": {
          "background_save": true
        },
        "id": "uOlJKUXTgq5r",
        "outputId": "e1201330-ba21-44a8-8e27-8037124f4aee"
      },
      "outputs": [
        {
          "data": {
            "text/plain": [
              "['movie_sim.pkl']"
            ]
          },
          "execution_count": 40,
          "metadata": {},
          "output_type": "execute_result"
        }
      ],
      "source": [
        "#save it using joblibb\n",
        "joblib.dump(similarity, 'movie_sim.pkl')"
      ]
    },
    {
      "cell_type": "code",
      "execution_count": null,
      "metadata": {
        "colab": {
          "background_save": true
        },
        "id": "ifpLn6njgq2c"
      },
      "outputs": [],
      "source": [
        "resultsim = joblib.load('movie_sim.pkl')"
      ]
    },
    {
      "cell_type": "code",
      "execution_count": null,
      "metadata": {
        "colab": {
          "background_save": true
        },
        "id": "ukquLB_Jgqy3",
        "outputId": "5b94638e-a7c2-43cc-dd5c-f56540904d1c"
      },
      "outputs": [
        {
          "data": {
            "text/plain": [
              "numpy.ndarray"
            ]
          },
          "execution_count": 42,
          "metadata": {},
          "output_type": "execute_result"
        }
      ],
      "source": [
        "type(resultsim)"
      ]
    },
    {
      "cell_type": "code",
      "execution_count": null,
      "metadata": {
        "colab": {
          "background_save": true
        },
        "id": "rrPXt_HxmzUR"
      },
      "outputs": [],
      "source": [
        "def recommend2(title):\n",
        "  title_index =  movies[movies['title'] == title].index[0]\n",
        "  movies_sorted = sorted(list(enumerate(resultsim[title_index])), reverse=True, key = lambda x: x[1])\n",
        "  for i in movies_sorted[0:15]:\n",
        "    print(movies.iloc[i[0]].title)\n",
        "    print(i)"
      ]
    },
    {
      "cell_type": "code",
      "execution_count": null,
      "metadata": {
        "colab": {
          "background_save": true
        },
        "id": "hrwUOwbPmzP4",
        "outputId": "d87ea828-2315-4c76-d56f-c25bc72005ac"
      },
      "outputs": [
        {
          "name": "stdout",
          "output_type": "stream",
          "text": [
            "Interstellar\n",
            "(132, 1.0000000000000002)\n",
            "Inception\n",
            "(407, 0.3400000000000001)\n",
            "The Dark Knight Rises\n",
            "(697, 0.32126980205784317)\n",
            "The Dark Knight\n",
            "(364, 0.309426373877638)\n",
            "Forsaken\n",
            "(2361, 0.2886751345948129)\n",
            "Tenet\n",
            "(1216, 0.282842712474619)\n",
            "Silent Running\n",
            "(8487, 0.27456258919345766)\n",
            "The Prestige\n",
            "(1496, 0.2683281572999748)\n",
            "Dunkirk\n",
            "(1337, 0.2557448052364024)\n",
            "Oppenheimer\n",
            "(22, 0.2293658554627822)\n",
            "Marooned\n",
            "(9484, 0.2267786838055363)\n",
            "Surrogates\n",
            "(2566, 0.21773242158072698)\n",
            "Proximity\n",
            "(5491, 0.21380899352993948)\n",
            "Plan 75\n",
            "(7481, 0.21380899352993948)\n",
            "Memento\n",
            "(2484, 0.21213203435596426)\n"
          ]
        }
      ],
      "source": [
        "recommend2('Interstellar')"
      ]
    },
    {
      "cell_type": "code",
      "execution_count": null,
      "metadata": {
        "colab": {
          "background_save": true
        },
        "id": "IwA-dM_Ac5hJ"
      },
      "outputs": [],
      "source": [
        "import pandas as pd\n",
        "import joblib as jlib\n",
        "import pickle"
      ]
    },
    {
      "cell_type": "code",
      "execution_count": null,
      "metadata": {
        "colab": {
          "background_save": true
        },
        "id": "3XWuOro2c5Zs"
      },
      "outputs": [],
      "source": [
        "#loading the similarity file for the project\n",
        "similarity =  joblib.load(\"movie_sim.pkl\")"
      ]
    },
    {
      "cell_type": "code",
      "execution_count": null,
      "metadata": {
        "colab": {
          "background_save": true
        },
        "id": "Zz8ziLQEc5WD"
      },
      "outputs": [],
      "source": []
    }
  ],
  "metadata": {
    "colab": {
      "provenance": []
    },
    "kernelspec": {
      "display_name": "Python 3",
      "name": "python3"
    },
    "language_info": {
      "name": "python"
    }
  },
  "nbformat": 4,
  "nbformat_minor": 0
}